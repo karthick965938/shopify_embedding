{
  "cells": [
    {
      "cell_type": "markdown",
      "metadata": {
        "id": "pHhmEzNdOgL1"
      },
      "source": [
        "# Install the required python packages"
      ]
    },
    {
      "cell_type": "code",
      "execution_count": null,
      "metadata": {
        "id": "XKEtPruAyWxk"
      },
      "outputs": [],
      "source": [
        "!pip install langchain jq sentence_transformers\n",
        "!pip install faiss-cpu\n",
        "!pip install openai\n",
        "!pip install tiktoken"
      ]
    },
    {
      "cell_type": "markdown",
      "metadata": {
        "id": "8BLdUpp2Or8p"
      },
      "source": [
        "# Import the necessary library"
      ]
    },
    {
      "cell_type": "code",
      "execution_count": null,
      "metadata": {
        "id": "2Vnf_0sduUSf"
      },
      "outputs": [],
      "source": [
        "from bs4 import BeautifulSoup\n",
        "import json\n",
        "import requests\n",
        "import os\n",
        "import time\n",
        "import pandas as pd\n",
        "pd.set_option(\"display.max_colwidth\", 1000)\n",
        "from langchain.document_loaders.json_loader import JSONLoader"
      ]
    },
    {
      "cell_type": "markdown",
      "metadata": {
        "id": "zNoa9Hr8O6eR"
      },
      "source": [
        "**Add you OPENAI KEY**"
      ]
    },
    {
      "cell_type": "code",
      "execution_count": null,
      "metadata": {
        "id": "l_brc4OGa1SO"
      },
      "outputs": [],
      "source": [
        "os.environ[\"OPENAI_API_KEY\"] = \"\""
      ]
    },
    {
      "cell_type": "markdown",
      "metadata": {
        "id": "0xKrLPpyPFTL"
      },
      "source": [
        "**Add your Test Shopify store URL**"
      ]
    },
    {
      "cell_type": "code",
      "execution_count": null,
      "metadata": {
        "id": "CBBataFV3bPX"
      },
      "outputs": [],
      "source": [
        "shop_url = \"https://quickstart-bde7c873.myshopify.com\"\n",
        "api_version = \"2023-07\""
      ]
    },
    {
      "cell_type": "markdown",
      "metadata": {
        "id": "MpJ7kSTxPfkx"
      },
      "source": [
        "## **Connect the shopify store and get the products list as JSON**"
      ]
    },
    {
      "cell_type": "code",
      "execution_count": null,
      "metadata": {
        "id": "04leFBlQ3UGb"
      },
      "outputs": [],
      "source": [
        "def get_all_products(shop_url, api_version):\n",
        "    all_products = []\n",
        "    url = f\"{shop_url}/admin/api/{api_version}/products.json\"\n",
        "    headers = {\"X-Shopify-Access-Token\": os.getenv(\"SHOPIFY_API_KEY\")}\n",
        "    params = {\"limit\": 250}\n",
        "    response = requests.get(url, headers=headers, params=params)\n",
        "    all_products.extend(response.json()[\"products\"])\n",
        "    save_json(response.json())\n",
        "    try:\n",
        "        while response.links[\"next\"]:\n",
        "            response = requests.get(response.links[\"next\"][\"url\"], headers=headers)\n",
        "            all_products.extend(response.json()[\"products\"])\n",
        "            time.sleep(2)\n",
        "    except KeyError:\n",
        "        return all_products"
      ]
    },
    {
      "cell_type": "code",
      "execution_count": null,
      "metadata": {
        "id": "eVl07_MDRPsx"
      },
      "outputs": [],
      "source": [
        "def save_json(data):\n",
        "    with open('data.json', 'w', encoding='utf-8') as f:\n",
        "        json.dump(data, f, ensure_ascii=False, indent=4)"
      ]
    },
    {
      "cell_type": "code",
      "execution_count": null,
      "metadata": {
        "id": "D_zB_sVs4lS4"
      },
      "outputs": [],
      "source": [
        "all_products = get_all_products(shop_url, api_version)"
      ]
    },
    {
      "cell_type": "code",
      "execution_count": null,
      "metadata": {
        "id": "JtulZISr9B8d"
      },
      "outputs": [],
      "source": [
        "product_df = pd.DataFrame(all_products)"
      ]
    },
    {
      "cell_type": "markdown",
      "metadata": {
        "id": "RXaWRfzaP26q"
      },
      "source": [
        "# **Read the JSON file and show as DataFrame**"
      ]
    },
    {
      "cell_type": "code",
      "execution_count": null,
      "metadata": {
        "id": "jFEFHiJ3wlHb"
      },
      "outputs": [],
      "source": [
        "def read_json_file(file_path):\n",
        "    try:\n",
        "        with open(file_path, 'r') as file:\n",
        "            data = json.load(file)\n",
        "        return data\n",
        "    except FileNotFoundError:\n",
        "        print(f\"File not found: {file_path}\")\n",
        "        return None\n",
        "    except json.JSONDecodeError:\n",
        "        print(f\"Error decoding JSON in file: {file_path}\")\n",
        "        return None"
      ]
    },
    {
      "cell_type": "code",
      "execution_count": null,
      "metadata": {
        "id": "P0pBveixvCTL"
      },
      "outputs": [],
      "source": [
        "file_path = 'data.json'\n",
        "json_data = read_json_file(file_path)\n",
        "all_products = json_data['products']"
      ]
    },
    {
      "cell_type": "code",
      "execution_count": null,
      "metadata": {
        "id": "Wf7Biu8vvld8"
      },
      "outputs": [],
      "source": [
        "product_df = pd.DataFrame(all_products)"
      ]
    },
    {
      "cell_type": "code",
      "execution_count": null,
      "metadata": {
        "id": "mHdJNqvUSQkH"
      },
      "outputs": [],
      "source": [
        "product_df"
      ]
    },
    {
      "cell_type": "markdown",
      "metadata": {
        "id": "-MIFGaL_QDr1"
      },
      "source": [
        "# **PreProcessing Steps:**"
      ]
    },
    {
      "cell_type": "code",
      "execution_count": null,
      "metadata": {
        "id": "L20lxZfMwWf2"
      },
      "outputs": [],
      "source": [
        "def clean_html_tags(row):\n",
        "    soup = BeautifulSoup(row[\"body_html\"], \"html.parser\")\n",
        "    text = soup.get_text()\n",
        "    row[\"body_html\"] = text\n",
        "    return row\n",
        "\n",
        "def get_img_src(row):\n",
        "    all_images = []\n",
        "    for image in row[\"images\"]:\n",
        "        all_images.append(image[\"src\"])\n",
        "    row[\"images_list\"] = all_images\n",
        "    return row\n",
        "\n",
        "def create_expandend_description(row):\n",
        "    if row[\"body_html\"] == \"\" and row[\"tags\"] == \"\":\n",
        "        row[\"expanded_description\"] = row[\"title\"]\n",
        "    elif row[\"body_html\"] == \"\" and row[\"tags\"] != \"\":\n",
        "        row[\"expanded_description\"] = \"Title: \" + row['title'] + \" Tags: \" + row['tags']\n",
        "    elif row[\"body_html\"] != \"\" and row[\"tags\"] == \"\":\n",
        "        row[\"expanded_description\"] = \"Title: \" + row['title'] + \" Description: \" +row[\"body_html\"]\n",
        "    else:\n",
        "        row[\"expanded_description\"] = \"Title: \" + row['title'] + \" Description: \" +row[\"body_html\"] + \" Tags: \" + row['tags']\n",
        "    return row\n",
        "\n",
        "def df_preprocessing(df):\n",
        "    df = df[df[\"status\"] == \"active\"]\n",
        "    df.fillna(\"\", inplace=True)\n",
        "    df = df.apply(lambda row: get_img_src(row), axis=1)\n",
        "    df = df.apply(lambda row: create_expandend_description(row), axis=1)\n",
        "    df = df.apply(lambda row: clean_html_tags(row), axis=1)\n",
        "    df = df.rename(columns={\"body_html\": \"description\"})\n",
        "    df = df[[\"id\", \"title\", \"handle\",\"description\", \"expanded_description\", \"images_list\"]]\n",
        "    return df"
      ]
    },
    {
      "cell_type": "code",
      "execution_count": null,
      "metadata": {
        "colab": {
          "base_uri": "https://localhost:8080/"
        },
        "id": "Hq1FTnZIxXb4",
        "outputId": "e3119228-3e04-4fc1-da44-cc1670842f9e"
      },
      "outputs": [],
      "source": [
        "cleaned_df = df_preprocessing(product_df)"
      ]
    },
    {
      "cell_type": "code",
      "execution_count": null,
      "metadata": {
        "id": "SKJuKlFoxe2E"
      },
      "outputs": [],
      "source": [
        "cleaned_df.to_csv(\"products.csv\", index=False)"
      ]
    },
    {
      "cell_type": "code",
      "execution_count": null,
      "metadata": {
        "id": "Sh4PI9Vsx6Jj"
      },
      "outputs": [],
      "source": [
        "cleaned_products_json = cleaned_df.to_json(orient=\"records\")\n",
        "with open(\"products.json\", \"w\") as f:\n",
        "    f.write(cleaned_products_json)"
      ]
    },
    {
      "cell_type": "markdown",
      "metadata": {
        "id": "Ya-sF99gQOwe"
      },
      "source": [
        "# **Define the metadata extraction function.**"
      ]
    },
    {
      "cell_type": "code",
      "execution_count": null,
      "metadata": {
        "id": "ZnIy_ngHyEI-"
      },
      "outputs": [],
      "source": [
        "def metadata_func(record: dict, metadata: dict) -> dict:\n",
        "    metadata[\"id\"] = record.get(\"id\")\n",
        "    metadata[\"title\"] = record.get(\"title\")\n",
        "    metadata[\"tags\"] = record.get(\"tags\")\n",
        "    metadata[\"images_list\"] = record.get(\"images_list\")\n",
        "    metadata[\"handle\"] = record.get(\"handle\")\n",
        "    return metadata"
      ]
    },
    {
      "cell_type": "markdown",
      "metadata": {
        "id": "Tvb_lBtZQcjI"
      },
      "source": [
        "# **Using Langchain JSONLoader and Create FAISS vectorstore**"
      ]
    },
    {
      "cell_type": "code",
      "execution_count": null,
      "metadata": {
        "id": "bgSJSrq9zvV2"
      },
      "outputs": [],
      "source": [
        "from langchain.vectorstores import FAISS\n",
        "from langchain.embeddings import OpenAIEmbeddings\n",
        "\n",
        "def create_vectorstore(documents, embeddings):\n",
        "    vectorstore = FAISS.from_documents(documents=documents, embedding=embeddings)\n",
        "    return vectorstore\n",
        "\n",
        "def save_vectorstore(vectorstore, save_path, index_name):\n",
        "    vectorstore.save_local(save_path, index_name)\n",
        "    print(\"Vectorstore saved to: \", save_path)\n",
        "\n",
        "loader = JSONLoader(\n",
        "    file_path='./products.json',\n",
        "    jq_schema='.[]',\n",
        "    content_key=\"expanded_description\",\n",
        "    metadata_func=metadata_func\n",
        ")"
      ]
    },
    {
      "cell_type": "code",
      "execution_count": null,
      "metadata": {
        "id": "hakxbGXNFsBI"
      },
      "outputs": [],
      "source": [
        "documents = loader.load()\n",
        "embeddings = OpenAIEmbeddings()\n",
        "vectorstore = create_vectorstore(documents, embeddings)\n",
        "save_vectorstore(vectorstore, save_path=\"./shopify_langchaintesting_vectorstore\", index_name=\"products\")"
      ]
    },
    {
      "cell_type": "markdown",
      "metadata": {
        "id": "90_fMqsUQtgs"
      },
      "source": [
        "# **Load vectorstore from the local**"
      ]
    },
    {
      "cell_type": "code",
      "execution_count": null,
      "metadata": {
        "id": "GaD0mGvEGF4P"
      },
      "outputs": [],
      "source": [
        "vectorstore = FAISS.load_local(folder_path=\"./shopify_langchaintesting_vectorstore\", index_name=\"products\", embeddings=OpenAIEmbeddings())"
      ]
    },
    {
      "cell_type": "markdown",
      "metadata": {
        "id": "0Fso1RahQ1XA"
      },
      "source": [
        "Similarity Search"
      ]
    },
    {
      "cell_type": "code",
      "execution_count": null,
      "metadata": {
        "id": "4MThtFLdGYtq"
      },
      "outputs": [],
      "source": [
        "result = vectorstore.similarity_search(\"I want a adidas shoe for my child?\")"
      ]
    },
    {
      "cell_type": "code",
      "execution_count": null,
      "metadata": {
        "colab": {
          "base_uri": "https://localhost:8080/"
        },
        "id": "DRC0KL_oGd7q",
        "outputId": "3532843c-cf1b-45ef-8294-a96a0977afee"
      },
      "outputs": [],
      "source": [
        "for product in result:\n",
        "    print(product.page_content)\n",
        "    print(product.metadata[\"images_list\"])"
      ]
    },
    {
      "cell_type": "code",
      "execution_count": null,
      "metadata": {
        "colab": {
          "base_uri": "https://localhost:8080/"
        },
        "id": "6UxhtOjJTNB6",
        "outputId": "406dc048-b63b-4f01-f473-acdbe0df7913"
      },
      "outputs": [],
      "source": [
        "result"
      ]
    },
    {
      "cell_type": "code",
      "execution_count": null,
      "metadata": {
        "id": "PPyrNcBHIJ0i"
      },
      "outputs": [],
      "source": [
        "!zip -r ./shopify_langchaintesting_vectorstore.zip ./shopify_langchaintesting_vectorstore/"
      ]
    }
  ],
  "metadata": {
    "colab": {
      "provenance": []
    },
    "kernelspec": {
      "display_name": "Python 3",
      "name": "python3"
    },
    "language_info": {
      "name": "python",
      "version": "3.12.0"
    }
  },
  "nbformat": 4,
  "nbformat_minor": 0
}
